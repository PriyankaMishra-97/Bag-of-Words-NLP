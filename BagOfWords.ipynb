{
  "nbformat": 4,
  "nbformat_minor": 0,
  "metadata": {
    "colab": {
      "name": "Untitled0.ipynb",
      "provenance": [],
      "authorship_tag": "ABX9TyNfDPMUiOS1S2DjxcXZq+cn",
      "include_colab_link": true
    },
    "kernelspec": {
      "display_name": "Python 3",
      "name": "python3"
    }
  },
  "cells": [
    {
      "cell_type": "markdown",
      "metadata": {
        "id": "view-in-github",
        "colab_type": "text"
      },
      "source": [
        "<a href=\"https://colab.research.google.com/github/PriyankaMishra-97/FirstProject/blob/main/BagOfWords.ipynb\" target=\"_parent\"><img src=\"https://colab.research.google.com/assets/colab-badge.svg\" alt=\"Open In Colab\"/></a>"
      ]
    },
    {
      "cell_type": "code",
      "metadata": {
        "id": "8wFlUln44o8B"
      },
      "source": [
        "import numpy as np # linear algebra\n",
        "import pandas as pd # data processing, CSV file I/O (e.g. pd.read_csv)\n",
        "from sklearn.model_selection import train_test_split"
      ],
      "execution_count": null,
      "outputs": []
    },
    {
      "cell_type": "code",
      "metadata": {
        "id": "iYm6O-Je6mM5"
      },
      "source": [
        "train = pd.read_csv('train.tsv',sep='\\t')\n",
        "test_result = pd.read_csv('test.tsv',sep='\\t')"
      ],
      "execution_count": null,
      "outputs": []
    },
    {
      "cell_type": "code",
      "metadata": {
        "id": "st0x_eleREXT"
      },
      "source": [
        "train_index_list, validation_index_list = train_test_split(\\\n",
        "                                    np.unique(train['SentenceId']),\\\n",
        "                                    test_size=0.2, random_state=42)\n",
        "\n",
        "validation_df = train[train['SentenceId'].isin(validation_index_list)]\n",
        "train_df = train[train['SentenceId'].isin(train_index_list)]"
      ],
      "execution_count": null,
      "outputs": []
    },
    {
      "cell_type": "code",
      "metadata": {
        "colab": {
          "base_uri": "https://localhost:8080/"
        },
        "id": "8GtEl4nu6vD5",
        "outputId": "bd355df6-b817-4df8-b935-dc848bacdcf8"
      },
      "source": [
        "x_train = train_df.iloc[:,2]\n",
        "y_train = train_df.iloc[:,-1]\n",
        "x_val = validation_df.iloc[:,2]\n",
        "y_val=validation_df.iloc[:,-1]\n",
        "y_val.shape"
      ],
      "execution_count": null,
      "outputs": [
        {
          "output_type": "execute_result",
          "data": {
            "text/plain": [
              "(30848,)"
            ]
          },
          "metadata": {
            "tags": []
          },
          "execution_count": 5
        }
      ]
    },
    {
      "cell_type": "code",
      "metadata": {
        "colab": {
          "base_uri": "https://localhost:8080/",
          "height": 52
        },
        "id": "6ugfdp_X610Z",
        "outputId": "800671b2-894c-4d63-bde4-19a0f30d2448"
      },
      "source": [
        "def is_special(text):\n",
        "    rem = ''\n",
        "    for i in text:\n",
        "        if i.isalnum():\n",
        "            rem = rem + i.lower()\n",
        "        else:\n",
        "            rem = rem + ' '\n",
        "    return rem\n",
        "\n",
        "x_train = x_train.apply(is_special)\n",
        "x_train[0]"
      ],
      "execution_count": null,
      "outputs": [
        {
          "output_type": "execute_result",
          "data": {
            "application/vnd.google.colaboratory.intrinsic+json": {
              "type": "string"
            },
            "text/plain": [
              "'a series of escapades demonstrating the adage that what is good for the goose is also good for the gander   some of which occasionally amuses but none of which amounts to much of a story  '"
            ]
          },
          "metadata": {
            "tags": []
          },
          "execution_count": 6
        }
      ]
    },
    {
      "cell_type": "code",
      "metadata": {
        "colab": {
          "base_uri": "https://localhost:8080/"
        },
        "id": "xGrq1f9Z6_lu",
        "outputId": "cdd1e691-ca8d-40a0-eec1-406104a4d090"
      },
      "source": [
        "import nltk\n",
        "from nltk.corpus import stopwords\n",
        "from nltk.tokenize import word_tokenize\n",
        "nltk.download('stopwords')\n",
        "nltk.download('punkt')"
      ],
      "execution_count": null,
      "outputs": [
        {
          "output_type": "stream",
          "text": [
            "[nltk_data] Downloading package stopwords to /root/nltk_data...\n",
            "[nltk_data]   Package stopwords is already up-to-date!\n",
            "[nltk_data] Downloading package punkt to /root/nltk_data...\n",
            "[nltk_data]   Package punkt is already up-to-date!\n"
          ],
          "name": "stdout"
        },
        {
          "output_type": "execute_result",
          "data": {
            "text/plain": [
              "True"
            ]
          },
          "metadata": {
            "tags": []
          },
          "execution_count": 7
        }
      ]
    },
    {
      "cell_type": "code",
      "metadata": {
        "colab": {
          "base_uri": "https://localhost:8080/",
          "height": 35
        },
        "id": "_KMDrRUR7DRH",
        "outputId": "4ad8a7dd-d216-4804-9f39-a6ce2434308c"
      },
      "source": [
        "def rem_stopwords(text):\n",
        "    stop_words = set(stopwords.words('english'))\n",
        "    words = word_tokenize(text)\n",
        "    x= [w for w in words if w not in stop_words]\n",
        "    x = \" \".join(x)\n",
        "    return x \n",
        "\n",
        "x_train = x_train.apply(rem_stopwords)\n",
        "x_train[0]"
      ],
      "execution_count": null,
      "outputs": [
        {
          "output_type": "execute_result",
          "data": {
            "application/vnd.google.colaboratory.intrinsic+json": {
              "type": "string"
            },
            "text/plain": [
              "'series escapades demonstrating adage good goose also good gander occasionally amuses none amounts much story'"
            ]
          },
          "metadata": {
            "tags": []
          },
          "execution_count": 8
        }
      ]
    },
    {
      "cell_type": "code",
      "metadata": {
        "id": "HyMIsjAM8mMK"
      },
      "source": [
        "from sklearn.feature_extraction.text import TfidfVectorizer\n",
        "cv = TfidfVectorizer( min_df=3,  max_features=49748,\n",
        "            strip_accents='unicode', analyzer='word',token_pattern=r'\\w{1,}',\n",
        "            ngram_range=(1, 3))\n",
        "x = cv.fit_transform(x_train).toarray()"
      ],
      "execution_count": null,
      "outputs": []
    },
    {
      "cell_type": "code",
      "metadata": {
        "id": "0CkZu-nP8m1A"
      },
      "source": [
        "'''from sklearn.ensemble import RandomForestClassifier\n",
        "randomClassifier = RandomForestClassifier(n_estimators=200,criterion = 'entropy')\n",
        "randomClassifier.fit(x,y_train)'''"
      ],
      "execution_count": null,
      "outputs": []
    },
    {
      "cell_type": "code",
      "metadata": {
        "id": "t_SWt-OY8qSO"
      },
      "source": [
        "def is_special(text):\n",
        "    rem = ''\n",
        "    for i in text:\n",
        "        if i.isalnum():\n",
        "            rem = rem + i.lower()\n",
        "        else:\n",
        "            rem = rem + ' '\n",
        "    return rem\n",
        "\n",
        "x_val = x_val.apply(is_special)\n",
        "\n",
        "\n",
        "def rem_stopwords(text):\n",
        "    stop_words = set(stopwords.words('english'))\n",
        "    words = word_tokenize(text)\n",
        "    x= [w for w in words if w not in stop_words]\n",
        "    x = \" \".join(x)\n",
        "    return x \n",
        "\n",
        "x_val = x_val.apply(rem_stopwords)\n",
        "\n",
        "\n",
        "cv = TfidfVectorizer(max_features = 1000)\n",
        "x_val_t = cv.fit_transform(x_val).toarray()\n"
      ],
      "execution_count": null,
      "outputs": []
    },
    {
      "cell_type": "code",
      "metadata": {
        "id": "J7fbIsMg_yc_"
      },
      "source": [
        "\n",
        "#predictions = randomClassifier.predict(x_val_t)"
      ],
      "execution_count": null,
      "outputs": []
    },
    {
      "cell_type": "code",
      "metadata": {
        "id": "UwYSUg3cQlE8"
      },
      "source": [
        "#from sklearn.metrics import confusion_matrix,accuracy_score"
      ],
      "execution_count": null,
      "outputs": []
    },
    {
      "cell_type": "code",
      "metadata": {
        "id": "bAXZZCJeQ2UH"
      },
      "source": [
        "#matrix = confusion_matrix(y_val,predictions)"
      ],
      "execution_count": null,
      "outputs": []
    },
    {
      "cell_type": "code",
      "metadata": {
        "id": "Q2lvt3QsQ7EF"
      },
      "source": [
        "#print(matrix)"
      ],
      "execution_count": null,
      "outputs": []
    },
    {
      "cell_type": "code",
      "metadata": {
        "id": "r27OY_FPhEGg"
      },
      "source": [
        "#acc = accuracy_score(y_test,predictions)"
      ],
      "execution_count": null,
      "outputs": []
    },
    {
      "cell_type": "code",
      "metadata": {
        "id": "OsTlMcjQhY4s"
      },
      "source": [
        "#print(acc)"
      ],
      "execution_count": null,
      "outputs": []
    },
    {
      "cell_type": "code",
      "metadata": {
        "id": "s_PXqiaxhaVM"
      },
      "source": [
        "from sklearn.naive_bayes import GaussianNB,MultinomialNB,BernoulliNB\n",
        "gnb,mnb,bnb = GaussianNB(),MultinomialNB(alpha=1.0,fit_prior=True),BernoulliNB(alpha=1.0,fit_prior=True)\n",
        "gnb.fit(x,y_train)\n",
        "mnb.fit(x,y_train)\n",
        "bnb.fit(x,y_train)"
      ],
      "execution_count": null,
      "outputs": []
    },
    {
      "cell_type": "code",
      "metadata": {
        "id": "LF3Iq7-pi7-E"
      },
      "source": [
        "ypg = gnb.predict(x_val_t)\n",
        "ypm = mnb.predict(x_val_t)\n",
        "ypb = bnb.predict(x_val_t)"
      ],
      "execution_count": null,
      "outputs": []
    },
    {
      "cell_type": "code",
      "metadata": {
        "id": "xGzxKg0GzmKY"
      },
      "source": [
        "#print(\"Gaussian = \",accuracy_score(y_test,ypg))\n",
        "print(\"Multinomial = \",accuracy_score(y_test,ypm))\n",
        "print(\"Bernoulli = \",accuracy_score(y_test,ypb))"
      ],
      "execution_count": null,
      "outputs": []
    },
    {
      "cell_type": "code",
      "metadata": {
        "id": "n-vXtQAMzvG5"
      },
      "source": [
        ""
      ],
      "execution_count": null,
      "outputs": []
    }
  ]
}